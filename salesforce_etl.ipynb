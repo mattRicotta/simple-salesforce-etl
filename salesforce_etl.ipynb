{
 "cells": [
  {
   "cell_type": "markdown",
   "metadata": {},
   "source": [
    "# Notebook For Salesforce Query and Data Transformation"
   ]
  },
  {
   "cell_type": "code",
   "execution_count": null,
   "metadata": {},
   "outputs": [],
   "source": [
    "from simple_salesforce import Salesforce\n",
    "from dotenv import load_dotenv\n",
    "import os\n",
    "import pandas as pd\n",
    "import numpy as np\n",
    "import datetime as dt\n",
    "\n",
    "load_dotenv()"
   ]
  },
  {
   "cell_type": "code",
   "execution_count": null,
   "metadata": {},
   "outputs": [],
   "source": [
    "# Connect To Salesforce\n",
    "username = os.getenv('SF_USERID')\n",
    "password = os.getenv('SF_PASSWORD')\n",
    "security_token = os.getenv('SF_SECURITY_TOKEN')\n",
    "\n",
    "sf = Salesforce(username=username, password=password, security_token=security_token)"
   ]
  },
  {
   "cell_type": "code",
   "execution_count": null,
   "metadata": {},
   "outputs": [],
   "source": [
    "# Query Records\n",
    "query = '''\n",
    "  SELECT Id, LeadScore__c, RecordType.Name\n",
    "  FROM Lead\n",
    "  WHERE LeadScore__c != null\n",
    "'''\n",
    "\n",
    "df = pd.DataFrame(sf.query_all_iter(query)).drop(columns='attributes')\n",
    "df.head()"
   ]
  },
  {
   "cell_type": "code",
   "execution_count": null,
   "metadata": {},
   "outputs": [],
   "source": [
    "df['RecordType.Name'] = df['RecordType'].apply(lambda x: x['Name'])\n",
    "df.head()"
   ]
  },
  {
   "cell_type": "code",
   "execution_count": null,
   "metadata": {},
   "outputs": [],
   "source": [
    "df.drop(columns='RecordType', inplace=True)\n",
    "df.head()"
   ]
  },
  {
   "cell_type": "code",
   "execution_count": null,
   "metadata": {},
   "outputs": [],
   "source": [
    "df['RecordType.Name'].unique()"
   ]
  },
  {
   "cell_type": "code",
   "execution_count": null,
   "metadata": {},
   "outputs": [],
   "source": [
    "query='''\n",
    "  SELECT Id, DeveloperName\n",
    "  FROM RecordType\n",
    "  WHERE sObjectType = 'Lead'\n",
    "'''\n",
    "lead_rts = pd.DataFrame(sf.query_all_iter(query)).drop(columns='attributes')\n",
    "lead_rts"
   ]
  },
  {
   "cell_type": "code",
   "execution_count": null,
   "metadata": {},
   "outputs": [],
   "source": [
    "df['LeadScore__c'] = df['LeadScore__c'].apply(lambda x: 0 if x<0 else x)"
   ]
  },
  {
   "cell_type": "code",
   "execution_count": null,
   "metadata": {},
   "outputs": [],
   "source": [
    "for rt in df['RecordType.Name'].unique():\n",
    "  df[df['RecordType.Name']==rt].to_csv(f'leadscores_{rt}_2023-03-16.csv', index=False)"
   ]
  }
 ],
 "metadata": {
  "kernelspec": {
   "display_name": "env",
   "language": "python",
   "name": "python3"
  },
  "language_info": {
   "codemirror_mode": {
    "name": "ipython",
    "version": 3
   },
   "file_extension": ".py",
   "mimetype": "text/x-python",
   "name": "python",
   "nbconvert_exporter": "python",
   "pygments_lexer": "ipython3",
   "version": "3.11.1"
  },
  "orig_nbformat": 4,
  "vscode": {
   "interpreter": {
    "hash": "19cb2428aca94bedf8735f8a0d57b4de7a570912dbcdcd38cbd321c94d6f9665"
   }
  }
 },
 "nbformat": 4,
 "nbformat_minor": 2
}
